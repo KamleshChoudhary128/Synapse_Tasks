{
 "cells": [
  {
   "cell_type": "code",
   "execution_count": 1,
   "id": "61eb0b7e-7ee8-4fe0-9046-a5bcc7b69e13",
   "metadata": {},
   "outputs": [
    {
     "name": "stdin",
     "output_type": "stream",
     "text": [
      "Enter size of your team:  4\n"
     ]
    },
    {
     "name": "stdout",
     "output_type": "stream",
     "text": [
      "most unique types: 9\n",
      "Strongest taem(s):\n",
      "Charizard, Lapras, Hoopa, Onix -> Dark, Fire, Flying, Ghost, Ground, Ice, Psychic, Rock, Water\n"
     ]
    }
   ],
   "source": [
    "import itertools\n",
    "pokedex = {\n",
    "    'Pikachu': ('Electric',),\n",
    "    'Charizard': ('Fire', 'Flying'),\n",
    "    'Lapras': ('Water', 'Ice'),\n",
    "    'Machamp': ('Fighting',),\n",
    "    'Mewtwo': ('Psychic', 'Fighting'),\n",
    "    'Hoopa': ('Psychic', 'Ghost', 'Dark'),\n",
    "    'Lugia': ('Psychic', 'Flying', 'Water'),\n",
    "    'Squirtle': ('Water',),\n",
    "    'Gengar': ('Ghost', 'Poison'),\n",
    "    'Onix': ('Rock', 'Ground')\n",
    "}\n",
    "tsize = int(input(\"Enter size of your team: \"))\n",
    "mnames = list(pokedex.keys())\n",
    "allteams = itertools.combinations(mnames,tsize)\n",
    "maxcount = 0\n",
    "bestteam = []\n",
    "\n",
    "for g in allteams:\n",
    "    typeset = set()\n",
    "    for mon in g:\n",
    "        typeset.update(pokedex[mon])\n",
    "    if len(typeset) > maxcount:\n",
    "        maxcount = len(typeset)\n",
    "        bestteam = [(g, typeset)]\n",
    "    elif len(typeset) == maxcount:\n",
    "        bestteam.append((g, typeset))\n",
    "\n",
    "print(f\"most unique types: {maxcount}\")\n",
    "print(\"Strongest taem(s):\")\n",
    "for a, b in bestteam:\n",
    "    print(\", \".join(a), \"->\", \", \".join(sorted(b)))"
   ]
  },
  {
   "cell_type": "code",
   "execution_count": 2,
   "id": "2a947e5f-c0e1-4433-8c92-7dc961455625",
   "metadata": {},
   "outputs": [
    {
     "name": "stdin",
     "output_type": "stream",
     "text": [
      "Enter a string: hilumos\n"
     ]
    },
    {
     "name": "stdout",
     "output_type": "stream",
     "text": [
      "7\n"
     ]
    }
   ],
   "source": [
    "str1 = 'LUMOS'\n",
    "l1=list(str1.lower())\n",
    "count=0\n",
    "flag=0\n",
    "str2 = input(\"Enter a string:\")\n",
    "str3=str2.lower()\n",
    "for char in str3:\n",
    "    if char in  l1:\n",
    "        l1.remove(char)\n",
    "    if not l1:\n",
    "        print(count+1)\n",
    "        flag=1\n",
    "        break\n",
    "    count=count+1\n",
    "if flag==0:\n",
    "    print(-1)"
   ]
  },
  {
   "cell_type": "code",
   "execution_count": 1,
   "id": "d237236b-492c-48f0-b1a2-620ae000b2c0",
   "metadata": {},
   "outputs": [],
   "source": [
    "def bombarea(cod, m):\n",
    "    n = len(cod)\n",
    "    h = m // 2\n",
    "    bcenter = None\n",
    "    des = []\n",
    "    for y in range(n):\n",
    "        for x in range(n):\n",
    "            if cod[y][x] == 0:\n",
    "                continue\n",
    "\n",
    "cod = [\n",
    " [1,0,0,0,1],\n",
    " [1,0,0,1,1],\n",
    " [1,1,1,0,1],\n",
    " [1,0,1,1,0],\n",
    " [0,1,0,1,1]\n",
    "]\n",
    "m = 2\n",
    "\n"
   ]
  },
  {
   "cell_type": "code",
   "execution_count": null,
   "id": "af41005d-b87d-4284-b983-4e3ba8fdce45",
   "metadata": {},
   "outputs": [],
   "source": []
  }
 ],
 "metadata": {
  "kernelspec": {
   "display_name": "Python 3 (ipykernel)",
   "language": "python",
   "name": "python3"
  },
  "language_info": {
   "codemirror_mode": {
    "name": "ipython",
    "version": 3
   },
   "file_extension": ".py",
   "mimetype": "text/x-python",
   "name": "python",
   "nbconvert_exporter": "python",
   "pygments_lexer": "ipython3",
   "version": "3.13.5"
  }
 },
 "nbformat": 4,
 "nbformat_minor": 5
}
